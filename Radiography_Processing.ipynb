{
 "cells": [
  {
   "cell_type": "markdown",
   "metadata": {},
   "source": [
    "# MedX Engine, Radiography and Tomography Processing\n",
    "---"
   ]
  },
  {
   "cell_type": "markdown",
   "metadata": {},
   "source": [
    "## 0.0. Install Libraries "
   ]
  },
  {
   "cell_type": "code",
   "execution_count": null,
   "metadata": {},
   "outputs": [],
   "source": [
    "import Radiography_Library as RadLib\n",
    "RadLib.Install_Libraries()"
   ]
  },
  {
   "cell_type": "markdown",
   "metadata": {},
   "source": [
    "---"
   ]
  },
  {
   "cell_type": "markdown",
   "metadata": {},
   "source": [
    "## 0.1. Attenuation Coefficient Bisection Algorithm"
   ]
  },
  {
   "cell_type": "markdown",
   "metadata": {},
   "source": [
    "### 0.1.1. Fixed Energy Step"
   ]
  },
  {
   "cell_type": "code",
   "execution_count": null,
   "metadata": {},
   "outputs": [],
   "source": [
    "import Radiography_Library as RadLib\n",
    "\n",
    "threads = 10\n",
    "\n",
    "save_folder = ''\n",
    "\n",
    "outputcsv_name = '.csv'\n",
    "\n",
    "root_structure = ['Transportation', 'Ratio', 'Mass_Attenuation'] # tree name, branch 1, branch 2\n",
    "\n",
    "energies = [100000, 101000, 1000] # initial energy, final energy, energy step (in eV)\n",
    "\n",
    "tolerance = 8\n",
    "\n",
    "RadLib.BisectionFixedEnergyStep(save_folder, threads, outputcsv_name, root_structure, energies, tolerance)"
   ]
  },
  {
   "cell_type": "markdown",
   "metadata": {},
   "source": [
    "### 0.1.2. Energies from NIST CSV"
   ]
  },
  {
   "cell_type": "code",
   "execution_count": null,
   "metadata": {},
   "outputs": [],
   "source": [
    "import Radiography_Library as RadLib\n",
    "\n",
    "threads = 10\n",
    "\n",
    "save_folder = ''\n",
    "\n",
    "input_csv = 'CdTe_nist.csv'\n",
    "\n",
    "outputcsv_name = '.csv'\n",
    "root_structure = ['Transportation', 'Ratio', 'Mass_Attenuation'] # tree name, branch 1, branch 2\n",
    "\n",
    "tolerance = 8\n",
    "\n",
    "RadLib.BisectionEnergiesNIST(save_folder, threads, outputcsv_name, root_structure, input_csv, tolerance)"
   ]
  },
  {
   "cell_type": "markdown",
   "metadata": {},
   "source": [
    "### 0.1.3. Plot Attenuation Results"
   ]
  },
  {
   "cell_type": "code",
   "execution_count": null,
   "metadata": {},
   "outputs": [],
   "source": [
    "import Radiography_Library as RadLib\n",
    "\n",
    "save_folder = 'BUILD/ROOT/'\n",
    "\n",
    "DATA = \\\n",
    "[\n",
    "{\"CSV\": \"CadTel_map.csv\", \"X\": \"Energy\", \"Y\": \"AtCoefficient\", \"LABEL\": \"CadTel\", \"MARKER\": \"o\", \"MARKERSIZE\": 1, \"COLOR\": \"red\", \"ALPHA\": 0.5},\n",
    "{\"CSV\": \"CdTe_nist.csv\",  \"X\": \"Energy\", \"Y\": \"AtCoeff\"      , \"LABEL\": \"NIST\",   \"MARKER\": \"o\", \"MARKERSIZE\": 1, \"COLOR\": \"red\", \"ALPHA\": 0.5},\n",
    "]\n",
    "\n",
    "title   = r\"Element ($$)\"\n",
    "x_label = r\"Energy ($keV$)\"\n",
    "y_label = r\"Mass Attenuation Coefficient ($cm^2/g$)\"\n",
    "\n",
    "X_axis_log = True\n",
    "Y_axis_log = True\n",
    "\n",
    "Figure_Text = None\n",
    "\n",
    "Font_Size_Normal = 16\n",
    "Font_Size_Large  = 20\n",
    "\n",
    "save_as = None  # '.png'\n",
    "\n",
    "RadLib.Plot_Att_Coeff(save_folder, DATA, title, x_label, y_label, X_axis_log, Y_axis_log, Figure_Text, Font_Size_Normal, Font_Size_Large, save_as)"
   ]
  },
  {
   "cell_type": "markdown",
   "metadata": {},
   "source": [
    "---"
   ]
  },
  {
   "cell_type": "markdown",
   "metadata": {},
   "source": [
    "## 1.1. Run Radiography"
   ]
  },
  {
   "cell_type": "code",
   "execution_count": null,
   "metadata": {},
   "outputs": [],
   "source": [
    "import Radiography_Library as RadLib\n",
    "\n",
    "threads  = 1\n",
    "energy   = 80      # keV\n",
    "sim_time = 4       # min\n",
    "iteration_time = 1 # min\n",
    "\n",
    "spectra_mode        = '80kvp' # 'mono (0)' or '80kvp (1) or '140kvp (2)'\n",
    "detector_parameters = {'nColumns': 1, 'nRows': 1}\n",
    "gun_parameters      = {'X': 0, 'Y': 0, 'gaussX': 'true', 'SpanX': 230, 'SpanY': 240}\n",
    "\n",
    "RadLib.RunRadiography(threads, energy, sim_time, iteration_time, spectra_mode, detector_parameters, gun_parameters, alarm=False)"
   ]
  },
  {
   "cell_type": "markdown",
   "metadata": {},
   "source": [
    "## 1.2. Run DEXA"
   ]
  },
  {
   "cell_type": "code",
   "execution_count": null,
   "metadata": {},
   "outputs": [],
   "source": [
    "import Radiography_Library as RadLib\n",
    "\n",
    "threads  = 10\n",
    "sim_time = 20#8*60     # min\n",
    "iteration_time = 60 # min\n",
    "\n",
    "spectra_mode = 'poly' # 'mono (0)' or 'poly (1)'\n",
    "\n",
    "RadLib.RunDEXA(threads, sim_time, iteration_time, spectra_mode, detector_parameters=None, gun_parameters=None, alarm=False)"
   ]
  },
  {
   "cell_type": "markdown",
   "metadata": {},
   "source": [
    "## 1.3. Merge Root Files"
   ]
  },
  {
   "cell_type": "code",
   "execution_count": null,
   "metadata": {},
   "outputs": [],
   "source": [
    "import Radiography_Library as RadLib\n",
    "\n",
    "save_folder = 'BUILD/ROOT/'\n",
    "save_folder = '/Users/miguelcomett/GEANT4/G4_MedX'\n",
    "\n",
    "starts_with = 'Rad_40'\n",
    "starts_with = 'Rad_80'\n",
    "starts_with = 'Poly_140kvp'\n",
    "starts_with = 'Poly_80kvp'\n",
    "starts_with = 'CT'\n",
    "\n",
    "output_name = starts_with\n",
    "\n",
    "# trim_coords = (-200, 200, -200, 200)  # x_min, x_max, y_min, y_max. (slower method)\n",
    "trim_coords = None\n",
    "\n",
    "RadLib.Merge_Roots_HADD(save_folder, starts_with, output_name, trim_coords) "
   ]
  },
  {
   "cell_type": "markdown",
   "metadata": {},
   "source": [
    "## 1.4. Get ROOT Summary Data & Histograms "
   ]
  },
  {
   "cell_type": "code",
   "execution_count": null,
   "metadata": {},
   "outputs": [],
   "source": [
    "import Radiography_Library as RadLib\n",
    "\n",
    "save_folder = 'BUILD/ROOT/'\n",
    "save_folder = '/Users/miguelcomett/GEANT4/G4_MedX/'\n",
    "\n",
    "root_file = 'Rad_40'\n",
    "root_file = 'Rad_80'\n",
    "root_file = 'Poly_80kvp.root'\n",
    "root_file = 'Poly_140kvp.root'\n",
    "\n",
    "# root_file = ''\n",
    "\n",
    "hits_tree      = 'Hits';                hits_branches      = ['x_ax', 'y_ax']\n",
    "summary_tree   = 'Run Summary';         summary_branches   = ['Number_of_Photons', 'Sample_Mass_kg', 'EDep_Value_TeV', 'Radiation_Dose_uSv']\n",
    "radiation_tree = 'Radiation Dose';      radiation_branches = ['Tissue', 'Radiation_Dose_uSv']\n",
    "spectra_tree   = 'Energy Spectra keV';  spectra_branches   = ['Energies', 'Counts']\n",
    "\n",
    "RadLib.Summary_Data(save_folder, root_file, hits_tree, hits_branches, summary_tree, summary_branches, \n",
    "                    radiation_tree, radiation_branches, spectra_tree, spectra_branches)\n",
    "\n",
    "range_x = [-250, 250, 1000] # range_min, range_max, bins (mm) \n",
    "range_y = [-250, 250, 1000] # range_min, range_max, bins (mm)\n",
    "range_spectra = [0, 150, 300] # range_min, range_max, bins (keV)\n",
    "\n",
    "RadLib.XY_1D_Histogram(save_folder, root_file, hits_tree, hits_branches, spectra_tree, spectra_branches, range_x, range_y, range_spectra)"
   ]
  },
  {
   "cell_type": "markdown",
   "metadata": {},
   "source": [
    "---"
   ]
  },
  {
   "cell_type": "markdown",
   "metadata": {},
   "source": [
    "## 2. Root File to Heatmap"
   ]
  },
  {
   "cell_type": "code",
   "execution_count": null,
   "metadata": {},
   "outputs": [],
   "source": [
    "import Radiography_Library as RadLib\n",
    "\n",
    "save_folder = 'BUILD/ROOT/'\n",
    "save_folder = '/Users/miguelcomett/GEANT4/G4_MedX/'\n",
    "\n",
    "root_file = 'Rad_40.root'\n",
    "root_file = 'Rad_80.root'\n",
    "root_file = 'Poly_80kvp.root'\n",
    "root_file = 'Poly_140kvp.root'\n",
    "\n",
    "root_structure = {\"tree_name\": \"Photons\", \"x_branch\": \"X_axis\", \"y_branch\": \"Y_axis\"}\n",
    "root_structure = {\"tree_name\": \"Hits\", \"x_branch\": \"x_ax\", \"y_branch\": \"y_ax\"}\n",
    "dimensions  = {\"len_X\": 300, \"len_Y\": 200, \"shift_X\": 0, \"shift_Y\": -150} # mm \n",
    "dimensions  = {\"len_X\": 300, \"len_Y\": 300, \"shift_X\": 0, \"shift_Y\": 0} # mm\n",
    "\n",
    "pixel_size = 0.5 # mm\n",
    "\n",
    "heatmap_raw = RadLib.Root_to_Heatmap(save_folder, root_file, root_structure, dimensions, pixel_size, progress_bar=True)\n",
    "heatmap = RadLib.Logarithmic_Transform(heatmap_raw)\n",
    "\n",
    "RadLib.Plotly_from_memory(projection = heatmap, size = [600, 600])\n",
    "# RadLib.Plot_Heatmap(heatmap, save_as='')"
   ]
  },
  {
   "cell_type": "code",
   "execution_count": null,
   "metadata": {},
   "outputs": [],
   "source": [
    "RadLib.Plotly_from_memory(projection = heatmap, size = [600, 600])"
   ]
  },
  {
   "cell_type": "markdown",
   "metadata": {},
   "source": [
    "---"
   ]
  },
  {
   "cell_type": "markdown",
   "metadata": {},
   "source": [
    "## 3. DEXA: Tissue Segmentation"
   ]
  },
  {
   "cell_type": "markdown",
   "metadata": {},
   "source": [
    "### Calculate Heatmaps"
   ]
  },
  {
   "cell_type": "code",
   "execution_count": null,
   "metadata": {},
   "outputs": [],
   "source": [
    "import Radiography_Library as RadLib\n",
    "\n",
    "save_folder = 'BUILD/ROOT/'\n",
    "save_folder = '/Users/miguelcomett/GEANT4/G4_MedX/'\n",
    "\n",
    "save_folder = '/Volumes/MCF Samsung/Geant4'\n",
    "\n",
    "rootnames = [\"Rad_40.root\", \"Rad_80.root\"]\n",
    "rootnames = ['Poly_80kvp.root', 'Poly_140kvp.root']\n",
    "\n",
    "root_structure = {\"tree_name\": \"Hits\", \"x_branch\": \"x_ax\", \"y_branch\": \"y_ax\"}\n",
    "tree_name = \"Hits\"; x_branch  = \"x_ax\"; y_branch  = \"y_ax\"\n",
    "\n",
    "dimensions  = {\"len_X\": 260, \"len_Y\": 260, \"shift_X\": 0, \"shift_Y\": 0} \n",
    "\n",
    "pixel_size = 0.5\n",
    "\n",
    "low_energy_img  = RadLib.Root_to_Heatmap(save_folder, rootnames[0], root_structure, dimensions, pixel_size, progress_bar=True)\n",
    "high_energy_img = RadLib.Root_to_Heatmap(save_folder, rootnames[1], root_structure, dimensions, pixel_size, progress_bar=True)\n",
    "low_energy_img  = RadLib.Logarithmic_Transform(low_energy_img)\n",
    "high_energy_img = RadLib.Logarithmic_Transform(high_energy_img)"
   ]
  },
  {
   "cell_type": "code",
   "execution_count": null,
   "metadata": {},
   "outputs": [],
   "source": [
    "dif_projection = high_energy_img - low_energy_img\n",
    "dif_projection = low_energy_img - high_energy_img\n",
    "RadLib.Plot_Heatmap(dif_projection, save_as='')"
   ]
  },
  {
   "cell_type": "markdown",
   "metadata": {},
   "source": [
    "### Save heatmaps as CSV"
   ]
  },
  {
   "cell_type": "code",
   "execution_count": null,
   "metadata": {},
   "outputs": [],
   "source": [
    "import Radiography_Library as RadLib\n",
    "\n",
    "read_folder = '/Users/miguelcomett/GEANT4/G4_MedX/'\n",
    "\n",
    "RadLib.Save_Heatmap_to_CSV(low_energy_img,  read_folder, save_as = '40kev_Projection')\n",
    "RadLib.Save_Heatmap_to_CSV(high_energy_img, read_folder, save_as = '80kev_Projection')"
   ]
  },
  {
   "cell_type": "markdown",
   "metadata": {},
   "source": [
    "### Read heatmap's CSV"
   ]
  },
  {
   "cell_type": "code",
   "execution_count": null,
   "metadata": {},
   "outputs": [],
   "source": [
    "import Radiography_Library as RadLib\n",
    "\n",
    "read_folder = '/Users/miguelcomett/GEANT4/G4_MedX/'\n",
    "\n",
    "low_energy_img  = RadLib.Read_Heatmap_from_CSV(read_folder, '40kev_Projection')\n",
    "high_energy_img = RadLib.Read_Heatmap_from_CSV(read_folder, '80kev_Projection')"
   ]
  },
  {
   "cell_type": "markdown",
   "metadata": {},
   "source": [
    "### Perform Segmentation"
   ]
  },
  {
   "cell_type": "code",
   "execution_count": null,
   "metadata": {},
   "outputs": [],
   "source": [
    "import Radiography_Library as RadLib\n",
    "\n",
    "sigma = 0\n",
    "wn = 0\n",
    "\n",
    "save_as = ['', '', '', '', '', '', '', ''] # Low Energy, High Energy, Bone [SLS], Tissue [SLS], Bone [SSH], Tissue [SSH], Bone [ACNR], Tissue [ACNR]\n",
    "\n",
    "SLS_Bone, SLS_Tissue, SSH_Bone, SSH_Tissue, ACNR_Bone, ACNR_Tissue = RadLib.IsolateTissues(low_energy_img, high_energy_img, sigma, sigma, wn, '', save_as, save_all='')"
   ]
  },
  {
   "cell_type": "markdown",
   "metadata": {},
   "source": [
    "---"
   ]
  },
  {
   "cell_type": "markdown",
   "metadata": {},
   "source": [
    "## 4. Bone Mineral Density (BMD)"
   ]
  },
  {
   "cell_type": "code",
   "execution_count": null,
   "metadata": {},
   "outputs": [],
   "source": [
    "import Radiography_Library as RadLib\n",
    "\n",
    "thickness_bone, thickness_tissue = RadLib.Bone_Mineral_Density(SLS_Bone, SLS_Tissue)\n",
    "RadLib.Plot_Heatmap(heatmap, '')\n",
    "RadLib.Plot_Plotly(thickness_bone, xlim, ylim)"
   ]
  },
  {
   "cell_type": "markdown",
   "metadata": {},
   "source": [
    "---"
   ]
  },
  {
   "cell_type": "markdown",
   "metadata": {},
   "source": [
    "## 5.1. Calculate Interactive CNR"
   ]
  },
  {
   "cell_type": "markdown",
   "metadata": {},
   "source": [
    "#### Trim Image"
   ]
  },
  {
   "cell_type": "code",
   "execution_count": null,
   "metadata": {},
   "outputs": [],
   "source": [
    "from PIL import Image; import matplotlib.pyplot as plt\n",
    "\n",
    "save_folder = 'RESULTS/'\n",
    "image = 'ssh' + '.png'\n",
    "image = Image.open(save_folder + image)\n",
    "image = image.convert('L')\n",
    "\n",
    "print(image.size)\n",
    "width = image.width; height = image.height\n",
    "\n",
    "trim = 200\n",
    "# image = image.crop((trim, trim, width - trim, height - trim)) # left, top, right, bottom\n",
    "# image = image.crop((8410, trim, width - 60, height - trim))\n",
    "\n",
    "# plt.imshow(image, cmap='gray'); plt.axis('off'); plt.show()"
   ]
  },
  {
   "cell_type": "markdown",
   "metadata": {},
   "source": [
    "#### Launch Interactive CNR"
   ]
  },
  {
   "cell_type": "code",
   "execution_count": null,
   "metadata": {},
   "outputs": [],
   "source": [
    "%matplotlib widget \n",
    "%matplotlib tk\n",
    "import Radiography_Library as RadLib\n",
    "\n",
    "RadLib.Interactive_CNR(image)"
   ]
  },
  {
   "cell_type": "markdown",
   "metadata": {},
   "source": [
    "## 5.2. Calculate Fixed CNR "
   ]
  },
  {
   "cell_type": "code",
   "execution_count": null,
   "metadata": {},
   "outputs": [],
   "source": [
    "import Radiography_Library as RadLib\n",
    "\n",
    "image_path = \"RESULTS/\" + \"a\" + \".png\"\n",
    "save_as = ''\n",
    "\n",
    "shftx_s = 0.0 # shift x-coordinate signal box\n",
    "shfty_s = 0.0 \n",
    "shftx_b = 200.0 # shift x-coordinate background box\n",
    "shfty_b = 0.0\n",
    "\n",
    "coords_signal  = [1200 + shftx_s, 1000 + shfty_s, 1800 + shftx_s, 1800 + shfty_s] # x1, y1, x2, y2\n",
    "coords_bckgrnd = [2100 + shftx_b, 1000 + shfty_b, 2300 + shftx_b, 1800 + shfty_b] # x1, y1, x2, y2\n",
    "\n",
    "RadLib.Fixed_CNR(image_path, save_as, coords_signal, coords_bckgrnd)"
   ]
  },
  {
   "cell_type": "markdown",
   "metadata": {},
   "source": [
    "---"
   ]
  },
  {
   "cell_type": "markdown",
   "metadata": {},
   "source": [
    "## 6.1. Denoise with Skimage.Denoise_Bilateral"
   ]
  },
  {
   "cell_type": "code",
   "execution_count": null,
   "metadata": {},
   "outputs": [],
   "source": [
    "import Radiography_Library as RadLib\n",
    "\n",
    "# load array\n",
    "path = SSH_Bone\n",
    "isArray = True\n",
    "\n",
    "# or load image\n",
    "if isArray == False:\n",
    "    save_folder = 'RESULTS/'\n",
    "    path = save_folder + 'a' + '.png'\n",
    "\n",
    "sigma_color = 0.05\n",
    "sigma_spatial = 20\n",
    "\n",
    "Denoised_Image = RadLib.Denoising_Auto_Edge_Detection(path, isArray)"
   ]
  },
  {
   "cell_type": "markdown",
   "metadata": {},
   "source": [
    "## 6.2. Denoise by Fourier Transform"
   ]
  },
  {
   "cell_type": "code",
   "execution_count": null,
   "metadata": {},
   "outputs": [],
   "source": [
    "import Radiography_Library as RadLib\n",
    "\n",
    "array = heatmap\n",
    "isHann = False\n",
    "\n",
    "alpha = 1\n",
    "\n",
    "save_as = ''\n",
    "isCrossSection = False # plot crosss-section\n",
    "\n",
    "fft_image = RadLib.Denoising_Window(array, isHann, alpha, save_as, isCrossSection)"
   ]
  },
  {
   "cell_type": "markdown",
   "metadata": {},
   "source": [
    "---"
   ]
  },
  {
   "cell_type": "markdown",
   "metadata": {},
   "source": [
    "## 7. Save Plotly Heatmap"
   ]
  },
  {
   "cell_type": "code",
   "execution_count": null,
   "metadata": {},
   "outputs": [],
   "source": [
    "import Radiography_Library as RadLib\n",
    "\n",
    "# array = htmp_array\n",
    "# array = Denoised_Image\n",
    "array = ACNR_Bone\n",
    "array = low_energy_img\n",
    "\n",
    "title   = r\"$ \\large{ \\text{Thorax Radiography Projection(40 keV)} } $\"\n",
    "x_label = r\"$ \\large{ \\text{X Axis} \\ (mm)} $\"\n",
    "y_label = r\"$ \\large{ \\text{Y Axis} \\ (mm)} $\"\n",
    "\n",
    "width  = 800\n",
    "height = 800\n",
    "\n",
    "save_as = ''\n",
    "\n",
    "RadLib.Plotly_Heatmap_1(array, xlim, ylim, title, x_label, y_label, width, height, save_as)"
   ]
  },
  {
   "cell_type": "markdown",
   "metadata": {},
   "source": [
    "#### Plot with annotation and rectangles"
   ]
  },
  {
   "cell_type": "code",
   "execution_count": null,
   "metadata": {},
   "outputs": [],
   "source": [
    "import Radiography_Library as RadLib\n",
    "\n",
    "array = heatmap\n",
    "\n",
    "title   = r\"$ \\large{ \\text{Low energy projection (40 keV), 100M Photons} } $\"\n",
    "x_label = r\"$ \\large{ \\text{X Axis} \\ (mm)} $\"\n",
    "y_label = r\"$ \\large{ \\text{Y Axis} \\ (mm)} $\"\n",
    "\n",
    "sqr_1_coords = [10, 10, -10, -10]\n",
    "sqr_2_coords = [10, 10, -10, -10]\n",
    "\n",
    "annotation = 'CNR = ' \n",
    "\n",
    "width  = 700\n",
    "height = 700\n",
    "\n",
    "save_as = ''\n",
    "\n",
    "RadLib.Plotly_Heatmap_2(array, xlim, ylim, title, x_label, y_label, sqr_1_coords, sqr_2_coords, annotation, width, height, save_as)"
   ]
  },
  {
   "cell_type": "markdown",
   "metadata": {},
   "source": [
    "---"
   ]
  },
  {
   "cell_type": "markdown",
   "metadata": {},
   "source": [
    "# 8. CT Scan"
   ]
  },
  {
   "cell_type": "markdown",
   "metadata": {},
   "source": [
    "## 8.1 Run CT loop"
   ]
  },
  {
   "cell_type": "code",
   "execution_count": null,
   "metadata": {},
   "outputs": [],
   "source": [
    "import Radiography_Library as RadLib\n",
    "\n",
    "threads = 10\n",
    "starts_with = 'CT'\n",
    "\n",
    "angles = range(303, 314, 1)\n",
    "\n",
    "slices = {\"y0\": -240, \"y1\": 240, \"step\": 4} # mm\n",
    "gun_parameters = {'X': 0, 'Y': 0, 'gaussX': 'true', 'SpanX': 230, 'SpanY': 0.01}\n",
    "\n",
    "beams_per_line = 600_000\n",
    "\n",
    "RadLib.CT_Loop(threads, starts_with, angles, slices, gun_parameters, beams_per_line, alarm=False)"
   ]
  },
  {
   "cell_type": "markdown",
   "metadata": {},
   "source": [
    "## 8.2. CT Summary"
   ]
  },
  {
   "cell_type": "code",
   "execution_count": null,
   "metadata": {},
   "outputs": [],
   "source": [
    "import Radiography_Library as RadLib\n",
    "\n",
    "save_folder = '/Users/miguelcomett/GEANT4/G4_MedX/CT2/0_Roots'\n",
    "\n",
    "summary_tree = 'Run Summary';         summary_branches = ['Number_of_Photons', 'EDep_Value_TeV', 'Radiation_Dose_uSv']\n",
    "spectra_tree = 'Energy Spectra keV';  spectra_branches = ['Energies', 'Counts']\n",
    "spectra_tree = None\n",
    "\n",
    "RadLib.CT_Summary_Data(save_folder, summary_tree, summary_branches, spectra_tree, spectra_branches)"
   ]
  },
  {
   "cell_type": "markdown",
   "metadata": {},
   "source": [
    "## 8.3. Calculate projections at every angle from roots and save to CSV"
   ]
  },
  {
   "cell_type": "code",
   "execution_count": null,
   "metadata": {},
   "outputs": [],
   "source": [
    "import Radiography_Library as RadLib\n",
    "\n",
    "directory = '/Users/miguelcomett/GEANT4/G4_MedX/CT2'\n",
    "save_folder = directory + '/0_Roots/'\n",
    "\n",
    "filename = 'Aang'\n",
    "root_structure = {\"tree_name\": \"Hits\", \"x_branch\": \"x_ax\", \"y_branch\": \"y_ax\"}\n",
    "\n",
    "slices = {\"start\": 0, \"end\": 359, \"step\": 1}\n",
    "\n",
    "dimensions  = {\"len_X\": 230, \"len_Y\": 240, \"shift_X\": 0, \"shift_Y\": 0} # mm \n",
    "# dimensions  = {\"len_X\": 110, \"len_Y\": 80, \"shift_X\": 0, \"shift_Y\": -170} # mm \n",
    "\n",
    "pixel_size = 0.5 # mm\n",
    "\n",
    "gun_span = 230 # mm\n",
    "# gun_span = 100 # mm\n",
    "\n",
    "csv_write = directory + '/1_Processed/'\n",
    "\n",
    "directory = '/Volumes/MCF_1TB/Geant4/CT/CT0'\n",
    "save_folder = directory + '/0_Roots/'\n",
    "dimensions  = {\"len_X\": 250, \"len_Y\": 75, \"shift_X\": 0, \"shift_Y\": -150} # mm \n",
    "root_structure = {\"tree_name\": \"Photons\", \"x_branch\": \"X_axis\", \"y_branch\": \"Y_axis\"}\n",
    "gun_span = 250 \n",
    "    \n",
    "RadLib.Calculate_Projections(save_folder, filename, slices, root_structure, dimensions, pixel_size, gun_span, csv_write)"
   ]
  },
  {
   "cell_type": "markdown",
   "metadata": {},
   "source": [
    "## 8.4. Load projections from CSV and perfom CT reconstruction"
   ]
  },
  {
   "cell_type": "code",
   "execution_count": null,
   "metadata": {},
   "outputs": [],
   "source": [
    "import Radiography_Library as RadLib\n",
    "\n",
    "directory = '/Users/miguelcomett/GEANT4/G4_MedX/CT2'\n",
    "directory = '/Volumes/MCF_1TB/Geant4/CT/CT0'\n",
    "csv_read  = directory + '/1_Processed/'\n",
    "csv_write = directory + '/1_Processed/'\n",
    " \n",
    "sigma = 1.0\n",
    "slices = {\"start\": 0, \"end\": 359, \"step\": 1}\n",
    "\n",
    "# slices_in  = {\"initial\": -240, \"final\": 240, \"step\": 4} # mm\n",
    "# slices_out = slices_in\n",
    "\n",
    "# slices_in  = {\"initial\": 0, \"final\": 80, \"step\": 1} # mm    \n",
    "# slices_out = {\"initial\": 0, \"final\": 120, \"step\": 1} # mm \n",
    "\n",
    "slices_in= {\"initial\": 0, \"final\": 75, \"step\": 1} # mm \n",
    "slices_out = slices_in\n",
    "\n",
    "RadLib.RadonReconstruction(csv_read, csv_write, slices, slices_in, slices_out, sigma, write = True)"
   ]
  },
  {
   "cell_type": "markdown",
   "metadata": {},
   "source": [
    "## 8.5. Export to DICOM"
   ]
  },
  {
   "cell_type": "code",
   "execution_count": null,
   "metadata": {},
   "outputs": [],
   "source": [
    "import Radiography_Library as RadLib\n",
    "\n",
    "directory = '/Users/miguelcomett/GEANT4/G4_MedX/CT2'\n",
    "directory = '/Volumes/MCF_1TB/Geant4/CT/CT0'\n",
    "csv_slices = directory + '/1_Processed/'\n",
    "\n",
    "slices = {\"start\": 0, \"end\": 120, \"step\": 1}\n",
    "slices = {\"start\": 0, \"end\": 75, \"step\": 1}\n",
    "\n",
    "# constants = {\"µ_water\": 0.1857, \"µ_air\": 0.1662, \"air_tolerance\": -10_000} # 80 keV\n",
    "constants = {\"µ_water\": 0.18, \"µ_air\": 0.000204553, \"air_tolerance\": -10_000} # 80 keV\n",
    "\n",
    "constant_factor = -0.0001 #- constants[\"µ_water\"]\n",
    "# constant_factor = - constants[\"µ_water\"]\n",
    "scale_factor = 1000/(constants[\"µ_water\"] - constants[\"µ_air\"])\n",
    "\n",
    "percentile = 100\n",
    "\n",
    "HU_images = RadLib.CoefficientstoHU(slices, csv_slices, constants, constant_factor, scale_factor, percentile)\n",
    "\n",
    "\n",
    "save_folder = directory + '/2_DICOMs/'\n",
    "\n",
    "slice_thickness = 0.5 # mm\n",
    "slice_spacing = 1 # mm\n",
    "\n",
    "# slice_thickness = 0.5 # mm\n",
    "# slice_spacing = 7.5 # mm\n",
    "\n",
    "RadLib.Export_to_Dicom(HU_images, slice_thickness, slice_spacing, save_folder, compressed=False)"
   ]
  },
  {
   "cell_type": "markdown",
   "metadata": {},
   "source": [
    "--- "
   ]
  },
  {
   "cell_type": "markdown",
   "metadata": {},
   "source": [
    "### Test Plots"
   ]
  },
  {
   "cell_type": "markdown",
   "metadata": {},
   "source": [
    "#### Plot 3x1"
   ]
  },
  {
   "cell_type": "code",
   "execution_count": null,
   "metadata": {},
   "outputs": [],
   "source": [
    "import Radiography_Library as RadLib\n",
    "\n",
    "directory = '/Users/miguelcomett/GEANT4/G4_MedX/CT1'\n",
    "csv_read = directory + '/1_Processed/'\n",
    "\n",
    "RadLib.Plotly_3x1(csv_read, step = 40)"
   ]
  },
  {
   "cell_type": "markdown",
   "metadata": {},
   "source": [
    "#### Plot Projection"
   ]
  },
  {
   "cell_type": "code",
   "execution_count": null,
   "metadata": {},
   "outputs": [],
   "source": [
    "import Radiography_Library as RadLib\n",
    "\n",
    "save_folder = '/Users/miguelcomett/GEANT4/G4_MedX/CT3/1_Processed/1_Heatmaps/'\n",
    "filename = 'Projection_270.csv'\n",
    "projection = RadLib.Plotly_from_file(save_folder, filename, size=[500, 500])"
   ]
  },
  {
   "cell_type": "code",
   "execution_count": null,
   "metadata": {},
   "outputs": [],
   "source": [
    "import Radiography_Library as RadLib\n",
    "\n",
    "save_folder = '/Users/miguelcomett/GEANT4/G4_MedX/CT3/1_Processed/0_Raw_Projections'\n",
    "filename = 'CT_Raw_235.csv'\n",
    "projection = RadLib.Plotly_from_file(save_folder, filename, size=[500, 500])"
   ]
  },
  {
   "cell_type": "markdown",
   "metadata": {},
   "source": [
    "#### Plot Slice"
   ]
  },
  {
   "cell_type": "code",
   "execution_count": null,
   "metadata": {},
   "outputs": [],
   "source": [
    "import Radiography_Library as RadLib\n",
    "\n",
    "save_folder = '/Users/miguelcomett/GEANT4/G4_MedX/CT3/Slices_test/'\n",
    "filename = 'CT_slice_1.csv'\n",
    "projection = RadLib.Plotly_from_file(save_folder, filename, size=[500, 500])"
   ]
  }
 ],
 "metadata": {
  "kernelspec": {
   "display_name": ".venv",
   "language": "python",
   "name": "python3"
  },
  "language_info": {
   "codemirror_mode": {
    "name": "ipython",
    "version": 3
   },
   "file_extension": ".py",
   "mimetype": "text/x-python",
   "name": "python",
   "nbconvert_exporter": "python",
   "pygments_lexer": "ipython3",
   "version": "3.12.7"
  }
 },
 "nbformat": 4,
 "nbformat_minor": 2
}
